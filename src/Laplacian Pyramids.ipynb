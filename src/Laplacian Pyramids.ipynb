{
 "metadata": {
  "kernelspec": {
   "codemirror_mode": {
    "name": "ipython",
    "version": 2
   },
   "display_name": "IPython (Python 2)",
   "language": "python",
   "name": "python2"
  },
  "language": "Julia",
  "name": "",
  "signature": "sha256:ee6b36c5cb992fbbb35801c5b0e41b607aba1e95bc284fff27e86a03468600e2"
 },
 "nbformat": 3,
 "nbformat_minor": 0,
 "worksheets": [
  {
   "cells": [
    {
     "cell_type": "heading",
     "level": 1,
     "metadata": {},
     "source": [
      "Laplacian Pyramids"
     ]
    },
    {
     "cell_type": "markdown",
     "metadata": {},
     "source": [
      "[Original Post](http://comp-photo.tumblr.com/post/106955431027/laplacian-pyramids)"
     ]
    },
    {
     "cell_type": "markdown",
     "metadata": {},
     "source": [
      "In this introductory post, we\u2019ll write code to construct and collapse Laplacian pyramids \u2014 a method of expanding an image in a redundant way that is often useful for downstream image processing. In the next post, we\u2019ll make use of a Laplacian pyramid to perform a type of edge-aware image processing, known as local Laplacian filtering. Edge aware processing methods are useful, and in many cases, necessary, for applications such as denoising, where retaining edge sharpness is important, and local contrast adjustment, where avoiding halos is desirable.\n",
      "\n",
      "The Laplacian pyramid is essentially a small variant of an expanded image representation known as the Gaussian pyramid, both introduced by Peter Burt and Edward Adelson in their 1983 paper, \u201c[The Laplacian Pyramid as a Compact Image Code](http://persci.mit.edu/pub_pdfs/pyramid83.pdf).\u201d\n",
      "\n",
      "Starting from the original image, the next \u201clevel\u201d of the Gaussian pyramid is created by applying a Gaussian filter and downsampling by a factor of two.\n",
      "\n",
      "![Gaussian Pyramid](http://media.tumblr.com/afbca57604b6676381bcb609a0780dc8/tumblr_inline_nhksy8yYPw1rsr7xb.png)\n",
      "\n",
      "Code to implement this is very straightforward. We\u2019ll be using Julia, but if you\u2019re familiar with MATLAB or Python, you should be able to follow along."
     ]
    },
    {
     "cell_type": "code",
     "collapsed": false,
     "input": [
      "# generates a lower level of the Gaussian pyramid decomposition of an image.\n",
      "function impyramid(A; sizes=\"downsampled\")\n",
      "  a = 0.375\n",
      "  kernel = [1/4 - a/2, 1/4, a, 1/4, 1/4 - a/2]\n",
      "  B = imfilter(imfilter(A,kernel), kernel') # slowest part of impyramid, by far\n",
      "\n",
      "  if (sizes == \"downsampled\")\n",
      "    return (B[1:2:end, 1:2:end])\n",
      "  elseif (sizes == \"both\")\n",
      "    return (B, B[1:2:end,1:2:end])\n",
      "  end\n",
      "end"
     ],
     "language": "python",
     "metadata": {},
     "outputs": [
      {
       "metadata": {},
       "output_type": "pyout",
       "prompt_number": 6,
       "text": [
        "impyramid (generic function with 1 method)"
       ]
      }
     ],
     "prompt_number": 6
    },
    {
     "cell_type": "markdown",
     "metadata": {},
     "source": [
      "Here, we are using a 5x5 kernel, as used by [Burt & Adelson] [1]. We\u2019ll also write a small wrapper function that calls impyramid a specified number of times and returns a tuple containing each level of the pyramid:"
     ]
    },
    {
     "cell_type": "code",
     "collapsed": false,
     "input": [
      "function gaussianpyramid(A, levels)\n",
      "  pyramid = ()\n",
      "  Ns = A\n",
      "\n",
      "  for n = 1:levels\n",
      "    pyramid = tuple(pyramid..., Ns)\n",
      "    Ns = impyramid(Ns)\n",
      "  end\n",
      "\n",
      "  return pyramid\n",
      "end"
     ],
     "language": "python",
     "metadata": {},
     "outputs": [
      {
       "metadata": {},
       "output_type": "pyout",
       "prompt_number": 7,
       "text": [
        "gaussianpyramid (generic function with 1 method)"
       ]
      }
     ],
     "prompt_number": 7
    },
    {
     "cell_type": "markdown",
     "metadata": {},
     "source": [
      "The Laplacian pyramid essentially takes the difference between successive levels of the pyramid (which is why the Gaussian pyramid code above contains an optional parameter for returning the next level of the pyramid prior to downsampling.) This produces a series of bandpassed pyramid levels, with the largest image containing only the very highest frequencies, down to the lowest level of the image, which is the low-pass \u201cresidual\u201d image (the same as the Guassian pyramid at that level). This is made more clear by the following image from [1].\n",
      "\n",
      "![Laplacian Pyramid](http://media.tumblr.com/a5c791496e1f5aaf018aa8aa41e3c0e2/tumblr_inline_nhkt4m9Cna1rsr7xb.png)"
     ]
    },
    {
     "cell_type": "code",
     "collapsed": false,
     "input": [
      "# generates a laplacian pyramid decomposition of an image A, with nlevels + 1 residual level\n",
      "function lappyramid(A, nlevels)\n",
      "  residual = A\n",
      "  pyramid = ()\n",
      "\n",
      "  for n = 1:nlevels\n",
      "    (N, Ns) = impyramid(residual, sizes=\"both\")\n",
      "    L = residual - N\n",
      "    residual = Ns\n",
      "    pyramid = tuple(pyramid..., L)\n",
      "  end\n",
      "\n",
      "  return tuple(pyramid..., residual)\n",
      "end"
     ],
     "language": "python",
     "metadata": {},
     "outputs": [
      {
       "metadata": {},
       "output_type": "pyout",
       "prompt_number": 8,
       "text": [
        "lappyramid (generic function with 1 method)"
       ]
      }
     ],
     "prompt_number": 8
    },
    {
     "cell_type": "markdown",
     "metadata": {},
     "source": [
      "In both cases, reconstruction of the original image from the pyramid (also known as \u201ccollapsing\u201d the pyramid) is a simple matter of recursive addition."
     ]
    },
    {
     "cell_type": "code",
     "collapsed": false,
     "input": [
      "# reconstruct an image (approximate, for the time being), from its pyramidal decomposition\n",
      "function reconstruct(L)\n",
      "  im = last(L)\n",
      "\n",
      "  for n = (length(L)-1):-1:1\n",
      "     # upscale\n",
      "    im2 = zeros(2*size(im)[1], 2*size(im)[2])\n",
      "    im2[1:2:end,1:2:end, :] = im\n",
      "\n",
      "    # gaussian interpolation\n",
      "    kernel = [1/18, 1/2, 16/18, 1/2, 1/18];\n",
      "    im2 = imfilter(imfilter(im2, kernel, \"reflect\"), kernel', \"reflect\")\n",
      "\n",
      "    im = im2\n",
      "    im += L[n]\n",
      "  end\n",
      "\n",
      "  return im\n",
      "end"
     ],
     "language": "python",
     "metadata": {},
     "outputs": [
      {
       "metadata": {},
       "output_type": "pyout",
       "prompt_number": 9,
       "text": [
        "reconstruct (generic function with 1 method)"
       ]
      }
     ],
     "prompt_number": 9
    },
    {
     "cell_type": "markdown",
     "metadata": {},
     "source": [
      "So, now we have code for expanding an image into a Laplcian pyramid representation of a specified depth, and for collapsing a Laplacian pyramid back into an image."
     ]
    },
    {
     "cell_type": "heading",
     "level": 2,
     "metadata": {},
     "source": [
      "References"
     ]
    },
    {
     "cell_type": "markdown",
     "metadata": {},
     "source": [
      "[1] \"Burt, Peter and Adelson, Edward. The Laplacian Pyramid as a Compact Image Code. IEEE Transactions on Communications, 1983.\" [http://persci.mit.edu/pub_pdfs/pyramid83.pdf](http://persci.mit.edu/pub_pdfs/pyramid83.pdf)"
     ]
    }
   ],
   "metadata": {}
  }
 ]
}